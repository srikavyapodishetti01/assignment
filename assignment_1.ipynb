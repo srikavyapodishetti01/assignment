{
  "nbformat": 4,
  "nbformat_minor": 0,
  "metadata": {
    "colab": {
      "provenance": [],
      "authorship_tag": "ABX9TyN7a3EEzNKfRh+6HRCr/tXq",
      "include_colab_link": true
    },
    "kernelspec": {
      "name": "python3",
      "display_name": "Python 3"
    },
    "language_info": {
      "name": "python"
    }
  },
  "cells": [
    {
      "cell_type": "markdown",
      "metadata": {
        "id": "view-in-github",
        "colab_type": "text"
      },
      "source": [
        "<a href=\"https://colab.research.google.com/github/srikavyapodishetti01/assignment/blob/main/assignment_1.ipynb\" target=\"_parent\"><img src=\"https://colab.research.google.com/assets/colab-badge.svg\" alt=\"Open In Colab\"/></a>"
      ]
    },
    {
      "cell_type": "code",
      "execution_count": 1,
      "metadata": {
        "id": "FH0XOlj2fcMf",
        "colab": {
          "base_uri": "https://localhost:8080/"
        },
        "outputId": "64b93a1e-d1e7-47db-e800-6f068d773068"
      },
      "outputs": [
        {
          "output_type": "stream",
          "name": "stdout",
          "text": [
            "HELLO,HOW ARE YOU \n",
            "hello,how are you\n",
            "Hello,How Are You\n",
            "i like white colour\n"
          ]
        }
      ],
      "source": [
        "#string method\n",
        "#upper()\n",
        "s=\"hello,how are you \"\n",
        "s2=s.upper()\n",
        "print(s2)\n",
        "\n",
        "#lower()\n",
        "s=\"HELLO,HOW ARE YOU\"\n",
        "s2=s.lower()\n",
        "print(s2)\n",
        "\n",
        "#title()\n",
        "s=\"hello,how are you\"\n",
        "s2=s.title()\n",
        "print(s2)\n",
        "\n",
        "#replace()\n",
        "s=\"i like yellow colour\"\n",
        "s2=s.replace(\"yellow\",\"white\")\n",
        "print(s2)"
      ]
    },
    {
      "cell_type": "code",
      "source": [
        "#list methods\n",
        "#append()\n",
        "s=['pink', 'green',' red']\n",
        "s.append(\"yellow\")\n",
        "print(s)\n",
        "\n",
        "#reverse()\n",
        "s=['pink', 'green',' red']\n",
        "s.reverse()\n",
        "print(s)\n",
        "\n",
        "#insert\n",
        "s=['pink', 'green',' red']\n",
        "s.insert(2,\"white\")\n",
        "print(s)\n",
        "\n",
        "#pop()\n",
        "s=['pink', 'green',' red']\n",
        "s.pop(1)\n",
        "print(s)"
      ],
      "metadata": {
        "colab": {
          "base_uri": "https://localhost:8080/"
        },
        "id": "vcDYl19PMSAy",
        "outputId": "c7b87d77-558b-4982-aae8-edf54f23d49a"
      },
      "execution_count": 2,
      "outputs": [
        {
          "output_type": "stream",
          "name": "stdout",
          "text": [
            "['pink', 'green', ' red', 'yellow']\n",
            "[' red', 'green', 'pink']\n",
            "['pink', 'green', 'white', ' red']\n",
            "['pink', ' red']\n"
          ]
        }
      ]
    },
    {
      "cell_type": "code",
      "source": [
        "#count()\n",
        "tuple=(1,4,6,2,4,6,8,2)\n",
        "x=tuple.count(6)\n",
        "print(x)\n",
        "\n",
        "#index()\n",
        "tuple=(1,4,6,2,4,6,8,2)\n",
        "x=tuple.index(2)\n",
        "print(x)"
      ],
      "metadata": {
        "colab": {
          "base_uri": "https://localhost:8080/"
        },
        "id": "gQBNsAOzNEfQ",
        "outputId": "7cbd651a-1401-45c0-a48a-2df59848aee0"
      },
      "execution_count": 3,
      "outputs": [
        {
          "output_type": "stream",
          "name": "stdout",
          "text": [
            "2\n",
            "3\n"
          ]
        }
      ]
    },
    {
      "cell_type": "code",
      "source": [
        "#clear()\n",
        "profile={\"name\":\"hinata\",\"place\":\"warangal\",\"fav colour\":\"blue\"}\n",
        "profile.clear()\n",
        "print(profile)\n",
        "\n",
        "#update()\n",
        "profile={\"name\":\"hinata\",\"place\":\"warangal\",\"fav colour\":\"blue\"}\n",
        "profile.update({\"BOD\":\"2003\"})\n",
        "print(profile)\n",
        "\n",
        "#values()\n",
        "profile={\"name\":\"hinata\",\"place\":\"warangal\",\"fav colour\":\"blue\"}\n",
        "x=profile.values()\n",
        "print(x)"
      ],
      "metadata": {
        "colab": {
          "base_uri": "https://localhost:8080/"
        },
        "id": "H6vr15WoNLl0",
        "outputId": "916ba6dc-a146-463d-fa83-d53311c28ca0"
      },
      "execution_count": 4,
      "outputs": [
        {
          "output_type": "stream",
          "name": "stdout",
          "text": [
            "{}\n",
            "{'name': 'hinata', 'place': 'warangal', 'fav colour': 'blue', 'BOD': '2003'}\n",
            "dict_values(['hinata', 'warangal', 'blue'])\n"
          ]
        }
      ]
    },
    {
      "cell_type": "code",
      "source": [
        "#add()\n",
        "x={\"tomato\",\"carrot\",\"potato\"}\n",
        "x.add(\"onion\")\n",
        "print(x)\n",
        "\n",
        "#intersection()\n",
        "x={\"tomato\",\"carrot\",\"potato\"}\n",
        "y={\"mango\",\"banana\",'carrot'}\n",
        "z=x.intersection(y)\n",
        "print(z)\n",
        "\n",
        "#remove()\n",
        "x={\"tomato\",\"carrot\",\"potato\"}\n",
        "x.remove(\"potato\")\n",
        "print(x)"
      ],
      "metadata": {
        "colab": {
          "base_uri": "https://localhost:8080/"
        },
        "id": "aR42hCTGNRFR",
        "outputId": "423f3c8e-c9f0-4c64-ac4e-f53ba9535829"
      },
      "execution_count": 5,
      "outputs": [
        {
          "output_type": "stream",
          "name": "stdout",
          "text": [
            "{'carrot', 'onion', 'tomato', 'potato'}\n",
            "{'carrot'}\n",
            "{'carrot', 'tomato'}\n"
          ]
        }
      ]
    },
    {
      "cell_type": "code",
      "source": [
        "#6th question\n",
        "decimal=int(input(\"enter the value\"))\n",
        "print(\"the decimal value of ',decimal,' is:\")\n",
        "print(bin(decimal),\"in binary\")\n",
        "print(oct(decimal),\"in octal\")\n",
        "print(hex(decimal),\"in hexadecimal\")\n"
      ],
      "metadata": {
        "colab": {
          "base_uri": "https://localhost:8080/"
        },
        "id": "1pUSYNg6NYC6",
        "outputId": "78b706ea-701a-422f-9831-048effbc798e"
      },
      "execution_count": 6,
      "outputs": [
        {
          "output_type": "stream",
          "name": "stdout",
          "text": [
            "enter the value344\n",
            "the decimal value of ',decimal,' is:\n",
            "0b101011000 in binary\n",
            "0o530 in octal\n",
            "0x158 in hexadecimal\n"
          ]
        }
      ]
    },
    {
      "cell_type": "code",
      "source": [
        "#Arithmatic operators\n",
        "#addition\n",
        "val1=10\n",
        "val2=35\n",
        "x=val1+val2\n",
        "print(x)\n",
        "\n",
        "#subtraction\n",
        "val1=35\n",
        "val2=10\n",
        "x=val1-val2\n",
        "print(x)\n",
        "\n",
        "#multiplication\n",
        "val1=10\n",
        "val2=3\n",
        "x=val1*val2\n",
        "print(x)\n",
        "\n",
        "#division\n",
        "val1=50\n",
        "val2=10\n",
        "x=val1/val2\n",
        "print(x)"
      ],
      "metadata": {
        "colab": {
          "base_uri": "https://localhost:8080/"
        },
        "id": "4xjtTMaeNdrx",
        "outputId": "62c9ee2a-7fa4-4573-bd36-2e6b42b12153"
      },
      "execution_count": 7,
      "outputs": [
        {
          "output_type": "stream",
          "name": "stdout",
          "text": [
            "45\n",
            "25\n",
            "30\n",
            "5.0\n"
          ]
        }
      ]
    },
    {
      "cell_type": "code",
      "source": [
        "#assignment operators\n",
        "#addition\n",
        "a=20\n",
        "b=50\n",
        "a+=b\n",
        "print(a)\n",
        "\n",
        "#subtraction\n",
        "a=50\n",
        "b=20\n",
        "a-=b\n",
        "print(a)\n",
        "\n",
        "#multiplication\n",
        "a=20\n",
        "b=5\n",
        "a*=b\n",
        "print(a)\n",
        "\n",
        "#division\n",
        "a=4\n",
        "b=2\n",
        "a/=b\n",
        "print(a)"
      ],
      "metadata": {
        "colab": {
          "base_uri": "https://localhost:8080/"
        },
        "id": "I5LjHabWNmo2",
        "outputId": "06b43a4b-b3a6-4887-d227-55b980bca69c"
      },
      "execution_count": 8,
      "outputs": [
        {
          "output_type": "stream",
          "name": "stdout",
          "text": [
            "70\n",
            "30\n",
            "100\n",
            "2.0\n"
          ]
        }
      ]
    },
    {
      "cell_type": "code",
      "source": [
        "#comparison operators\n",
        "\n",
        "#equals\n",
        "x=4\n",
        "y=9\n",
        "print(x==y)\n",
        "\n",
        "#not equals\n",
        "x=4\n",
        "y=6\n",
        "print(x!=y)\n",
        "\n",
        "#greater than\n",
        "x=4\n",
        "y=6\n",
        "print(x>y)\n",
        "\n",
        "#less than\n",
        "x=4\n",
        "y=6\n",
        "print(x<y)"
      ],
      "metadata": {
        "colab": {
          "base_uri": "https://localhost:8080/"
        },
        "id": "g3-8K4alNrcc",
        "outputId": "a8f9d215-978e-42bc-abfb-2cba43799146"
      },
      "execution_count": 9,
      "outputs": [
        {
          "output_type": "stream",
          "name": "stdout",
          "text": [
            "False\n",
            "True\n",
            "False\n",
            "True\n"
          ]
        }
      ]
    },
    {
      "cell_type": "code",
      "source": [
        "#logical operators\n",
        "#and operator\n",
        "x=7\n",
        "print(x>4 and x<8)\n",
        "\n",
        "#OR operator\n",
        "x=5\n",
        "print(x>1 or x<1)\n",
        "\n",
        "#not operator\n",
        "x=5\n",
        "print(not(x>1 and x<9))"
      ],
      "metadata": {
        "colab": {
          "base_uri": "https://localhost:8080/"
        },
        "id": "4VNMkb7BNw4E",
        "outputId": "dbd084e1-2c8a-4c25-8778-75581d71ced4"
      },
      "execution_count": 10,
      "outputs": [
        {
          "output_type": "stream",
          "name": "stdout",
          "text": [
            "True\n",
            "True\n",
            "False\n"
          ]
        }
      ]
    },
    {
      "cell_type": "code",
      "source": [
        "a=10\n",
        "b=4\n",
        "#AND operator\n",
        "print(\"a&b=\",a&b)\n",
        "#OR operator\n",
        "print(\"a|b=\",a|b)\n",
        "#XOR operator\n",
        "print(\"a^b=\",a^b)\n"
      ],
      "metadata": {
        "colab": {
          "base_uri": "https://localhost:8080/"
        },
        "id": "rYxl0PB0N2AZ",
        "outputId": "b46c97ab-c403-4afa-9172-927e40695b12"
      },
      "execution_count": 11,
      "outputs": [
        {
          "output_type": "stream",
          "name": "stdout",
          "text": [
            "a&b= 0\n",
            "a|b= 14\n",
            "a^b= 14\n"
          ]
        }
      ]
    },
    {
      "cell_type": "code",
      "source": [
        "#IN operator\n",
        "x=[\"mangoes\",\"stawberry\"]\n",
        "print(\"tomato\"in x)\n",
        "\n",
        "#NOT IN operator\n",
        "x=[\"mangoes\",\"stawberry\"]\n",
        "print(\"tomato\"not in x)"
      ],
      "metadata": {
        "colab": {
          "base_uri": "https://localhost:8080/"
        },
        "id": "0KsbtoGCN7Qt",
        "outputId": "f786bf33-db90-41b8-f02b-acf302b54667"
      },
      "execution_count": 12,
      "outputs": [
        {
          "output_type": "stream",
          "name": "stdout",
          "text": [
            "False\n",
            "True\n"
          ]
        }
      ]
    },
    {
      "cell_type": "code",
      "source": [
        "x=[\"mangoes\",\"stawberry\"]\n",
        "y=[\"mangoes\",\"stawberry\"]\n",
        "z=x\n",
        "print(x is y)\n",
        "print(x is z)\n",
        "print(x==y)"
      ],
      "metadata": {
        "colab": {
          "base_uri": "https://localhost:8080/"
        },
        "id": "wRgoyWPbOASW",
        "outputId": "a2b846fe-221e-4ac3-986e-915435843fd6"
      },
      "execution_count": 13,
      "outputs": [
        {
          "output_type": "stream",
          "name": "stdout",
          "text": [
            "False\n",
            "True\n",
            "True\n"
          ]
        }
      ]
    },
    {
      "cell_type": "code",
      "source": [
        "s=\"welcome\"\n",
        "print(s[-1])\n",
        "print(s[-2])\n"
      ],
      "metadata": {
        "colab": {
          "base_uri": "https://localhost:8080/"
        },
        "id": "HbVK8FFiOFHL",
        "outputId": "166ce934-efbd-4610-80f7-8ac75aa1b7a9"
      },
      "execution_count": 14,
      "outputs": [
        {
          "output_type": "stream",
          "name": "stdout",
          "text": [
            "e\n",
            "m\n"
          ]
        }
      ]
    },
    {
      "cell_type": "code",
      "source": [
        "p_phrase=[\"was it a cat or a cat i saw\"]\n",
        "p_phrase.reverse()\n",
        "print(p_phrase)"
      ],
      "metadata": {
        "id": "MzWSAiBtOJHO"
      },
      "execution_count": null,
      "outputs": []
    }
  ]
}